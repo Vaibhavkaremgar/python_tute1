{
 "cells": [
  {
   "cell_type": "code",
   "execution_count": 3,
   "id": "3c78858e-b6b2-4a60-815f-c8cb7f3b6c72",
   "metadata": {},
   "outputs": [
    {
     "name": "stdin",
     "output_type": "stream",
     "text": [
      "enter a number 15\n"
     ]
    },
    {
     "name": "stdout",
     "output_type": "stream",
     "text": [
      "odd number\n"
     ]
    }
   ],
   "source": [
    "n = int(input(\"enter a number\"))\n",
    "\n",
    "if n %2 == 0:\n",
    "   print(\"even number\")\n",
    "else:\n",
    "   print(\"odd number\")"
   ]
  },
  {
   "cell_type": "markdown",
   "id": "0a9b6de9-e226-49b2-94ec-c59ce5dd3104",
   "metadata": {},
   "source": [
    "the above code is for even and odd number"
   ]
  },
  {
   "cell_type": "code",
   "execution_count": null,
   "id": "acdc7578-b611-4828-b1b0-9116c999af7e",
   "metadata": {},
   "outputs": [],
   "source": []
  }
 ],
 "metadata": {
  "kernelspec": {
   "display_name": "Python [conda env:base] *",
   "language": "python",
   "name": "conda-base-py"
  },
  "language_info": {
   "codemirror_mode": {
    "name": "ipython",
    "version": 3
   },
   "file_extension": ".py",
   "mimetype": "text/x-python",
   "name": "python",
   "nbconvert_exporter": "python",
   "pygments_lexer": "ipython3",
   "version": "3.12.7"
  }
 },
 "nbformat": 4,
 "nbformat_minor": 5
}
